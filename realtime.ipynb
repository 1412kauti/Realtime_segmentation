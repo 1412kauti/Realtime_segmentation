{
 "cells": [
  {
   "cell_type": "code",
   "execution_count": null,
   "metadata": {},
   "outputs": [],
   "source": [
    "import tensorflow as tf\n",
    "from deeplabv3plus.model.deeplabv3_plus import DeeplabV3Plus"
   ]
  },
  {
   "cell_type": "code",
   "execution_count": null,
   "metadata": {},
   "outputs": [],
   "source": [
    "model = DeeplabV3Plus(backbone='resnet50',num_classes=20)\n",
    "input_shape = (1,256,256,3)\n",
    "input_tensor = tf.random.normal(input_shape)\n",
    "result = model(input_tensor)"
   ]
  },
  {
   "cell_type": "code",
   "execution_count": null,
   "metadata": {},
   "outputs": [],
   "source": [
    "print(result)"
   ]
  },
  {
   "cell_type": "code",
   "execution_count": null,
   "metadata": {},
   "outputs": [],
   "source": [
    "model.summary()"
   ]
  },
  {
   "cell_type": "code",
   "execution_count": null,
   "metadata": {},
   "outputs": [],
   "source": [
    "checkpoint_filepath=\"checkpoints/deeplabv3-plus-human-parsing-resnet-50-backbone_12\""
   ]
  },
  {
   "cell_type": "code",
   "execution_count": null,
   "metadata": {},
   "outputs": [],
   "source": [
    "model.load_weights(checkpoint_filepath)"
   ]
  },
  {
   "cell_type": "code",
   "execution_count": null,
   "metadata": {},
   "outputs": [],
   "source": [
    "model.compile(optimizer=tf.keras.optimizers.Adam(\n",
    "                    learning_rate=0.001\n",
    "                ),\n",
    "                loss=tf.keras.losses.SparseCategoricalCrossentropy(),\n",
    "                metrics=['accuracy']\n",
    "            )\n"
   ]
  },
  {
   "cell_type": "code",
   "execution_count": null,
   "metadata": {},
   "outputs": [],
   "source": [
    "from glob import glob\n",
    "from deeplabv3plus.inference import infer, read_image\n",
    "from deeplabv3plus.utils import plot_samples_matplotlib"
   ]
  },
  {
   "cell_type": "code",
   "execution_count": null,
   "metadata": {},
   "outputs": [],
   "source": [
    "train_images = glob('./dataset/instance-level_human_parsing/instance-level_human_parsing/Training/Images/*')\n",
    "val_images = glob('./dataset/instance-level_human_parsing/instance-level_human_parsing/Validation/Images/*')\n",
    "test_images = glob('./dataset/instance-level_human_parsing/instance-level_human_parsing/Testing/Images/*')"
   ]
  },
  {
   "cell_type": "code",
   "execution_count": null,
   "metadata": {},
   "outputs": [],
   "source": [
    "def plot_predictions(images_list, size):\n",
    "    for image_file in images_list:\n",
    "        image_tensor = read_image(image_file, size)\n",
    "        prediction = infer(\n",
    "            image_tensor=image_tensor,\n",
    "            model_file=model\n",
    "        )\n",
    "        plot_samples_matplotlib(\n",
    "            [image_tensor, prediction], figsize=(10, 6)\n",
    "        )\n"
   ]
  },
  {
   "cell_type": "code",
   "execution_count": null,
   "metadata": {},
   "outputs": [],
   "source": [
    "plot_predictions(train_images[:4], (256, 256))"
   ]
  },
  {
   "cell_type": "code",
   "execution_count": null,
   "metadata": {},
   "outputs": [],
   "source": [
    "model.save(\"save/model\")"
   ]
  },
  {
   "cell_type": "code",
   "execution_count": null,
   "metadata": {},
   "outputs": [],
   "source": [
    "!pip install onnxruntime tf2onnx blobconverter\n",
    "!python -m tf2onnx.convert --saved-model \"save/model\" --output model.onnx --opset 12"
   ]
  },
  {
   "cell_type": "code",
   "execution_count": null,
   "metadata": {},
   "outputs": [],
   "source": [
    "import xml.etree.ElementTree as ET\n",
    "tree = ET.parse(\"save/model/model.xml\")\n",
    "root = tree.getroot()\n",
    "data = root.find('.//layer[@name=\"strided_slice_10/extend_end_const1245431561\"]/data')\n",
    "data.set(\"element_type\", \"i32\")\n",
    "\n",
    "tree.write(\"save/model/export_model.xml\")"
   ]
  },
  {
   "cell_type": "code",
   "execution_count": null,
   "metadata": {},
   "outputs": [],
   "source": [
    "blob_export_dir = \"export_dir\"\n",
    "\n",
    "binfile = \"save/model/export_model.bin\"\n",
    "xmlfile = \"save/model/export_model.xml\""
   ]
  }
 ],
 "metadata": {
  "language_info": {
   "name": "python"
  }
 },
 "nbformat": 4,
 "nbformat_minor": 2
}
